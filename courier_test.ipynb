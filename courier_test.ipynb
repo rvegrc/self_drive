{
 "cells": [
  {
   "cell_type": "markdown",
   "id": "176634fa",
   "metadata": {},
   "source": [
    "## Spark Initialize"
   ]
  },
  {
   "cell_type": "code",
   "execution_count": null,
   "id": "2fba5a36",
   "metadata": {},
   "outputs": [
    {
     "name": "stderr",
     "output_type": "stream",
     "text": [
      "25/09/03 22:40:27 WARN Utils: Your hostname, cougar resolves to a loopback address: 127.0.1.1; using 192.168.1.150 instead (on interface wlp10s0)\n",
      "25/09/03 22:40:27 WARN Utils: Set SPARK_LOCAL_IP if you need to bind to another address\n",
      "Setting default log level to \"WARN\".\n",
      "To adjust logging level use sc.setLogLevel(newLevel). For SparkR, use setLogLevel(newLevel).\n",
      "25/09/03 22:40:29 WARN NativeCodeLoader: Unable to load native-hadoop library for your platform... using builtin-java classes where applicable\n"
     ]
    }
   ],
   "source": [
    "\n",
    "from pyspark.sql import SparkSession\n",
    "from pyspark.sql import functions as F\n",
    "from pyspark.sql import DataFrame as SparkDataFrame\n",
    "from pyspark.sql import Window\n",
    "\n",
    "\n",
    "# Configure Spark settings\n",
    "\n",
    "ram = 16\n",
    "cpu = 8*3\n",
    "# Define the application name and setup session\n",
    "appName = \"Connect To ClickHouse via PySpark\"\n",
    "spark = (SparkSession.builder\n",
    "         .appName(appName)\n",
    "         .config(\"spark.executor.memory\", f\"{ram}g\")\n",
    "         .config(\"spark.driver.maxResultSize\", f\"{ram}g\")\n",
    "         .config(\"spark.driver.memory\", f\"{ram}g\")\n",
    "         .config(\"spark.executor.memoryOverhead\", f\"{ram}g\")\n",
    "         .getOrCreate()\n",
    "         )\n"
   ]
  },
  {
   "cell_type": "markdown",
   "id": "f48d5a4c",
   "metadata": {},
   "source": [
    "## Заказы пеших курьеров\n",
    "\n",
    "У компании по доставке еды есть БД в которой содержится таблица заказов пеших курьеров [couriers_orders.parquet](https://drive.google.com/file/d/1ZJlyPkU8W3qlSJI57qYg1e_PQIxCjwZN/view?usp=sharing)  .\n",
    "\n"
   ]
  },
  {
   "cell_type": "code",
   "execution_count": 2,
   "id": "1c2c33e4",
   "metadata": {},
   "outputs": [
    {
     "name": "stdout",
     "output_type": "stream",
     "text": [
      "+-------------------+----------+--------+--------+-----------+\n",
      "|               date|courier_id|order_id|distance|travel_time|\n",
      "+-------------------+----------+--------+--------+-----------+\n",
      "|2021-07-12 00:00:00|        10|       1|     1.9|      36.17|\n",
      "|2021-07-02 00:00:00|         3|       2|    3.98|      21.34|\n",
      "|2021-04-15 00:00:00|         6|       3|    3.98|      43.33|\n",
      "|2021-07-16 00:00:00|        10|       4|    2.85|      14.01|\n",
      "|2021-06-11 00:00:00|        10|       5|    4.89|      32.09|\n",
      "+-------------------+----------+--------+--------+-----------+\n",
      "only showing top 5 rows\n",
      "\n"
     ]
    }
   ],
   "source": [
    "couriers_orders = spark.read.parquet(\"data/couriers_orders.parquet\")\n",
    "couriers_orders.show(5)"
   ]
  },
  {
   "cell_type": "code",
   "execution_count": 105,
   "id": "4b17f2ca",
   "metadata": {},
   "outputs": [
    {
     "name": "stdout",
     "output_type": "stream",
     "text": [
      "root\n",
      " |-- date: timestamp_ntz (nullable = true)\n",
      " |-- courier_id: long (nullable = true)\n",
      " |-- order_id: long (nullable = true)\n",
      " |-- distance: double (nullable = true)\n",
      " |-- travel_time: double (nullable = true)\n",
      "\n"
     ]
    }
   ],
   "source": [
    "couriers_orders.printSchema()"
   ]
  },
  {
   "cell_type": "markdown",
   "id": "57ccd8fd",
   "metadata": {},
   "source": [
    "### EDA"
   ]
  },
  {
   "cell_type": "code",
   "execution_count": 111,
   "id": "9299ad7c",
   "metadata": {},
   "outputs": [
    {
     "name": "stdout",
     "output_type": "stream",
     "text": [
      "+----+----------+--------+--------+-----------+\n",
      "|date|courier_id|order_id|distance|travel_time|\n",
      "+----+----------+--------+--------+-----------+\n",
      "|   0|         0|       0|       0|          0|\n",
      "+----+----------+--------+--------+-----------+\n",
      "\n"
     ]
    }
   ],
   "source": [
    "# check null and nan values in each column spark df, nan doesn't work for timestamp dtype\n",
    "def null_nan_counts(dfs: SparkDataFrame):\n",
    "    exprs = []\n",
    "    for c in dfs.columns:\n",
    "        dtype = dict(dfs.dtypes)[c]\n",
    "        if dtype in ['double', 'float']:\n",
    "            expr = F.count(F.when(F.isnull(c) | F.isnan(c), c)).alias(c)\n",
    "        else:\n",
    "            expr = F.count(F.when(F.isnull(c), c)).alias(c)\n",
    "        exprs.append(expr)\n",
    "    return dfs.select(*exprs).show()\n",
    "    \n",
    "\n",
    "null_nan_counts(couriers_orders)"
   ]
  },
  {
   "cell_type": "code",
   "execution_count": 34,
   "id": "66c10368",
   "metadata": {},
   "outputs": [
    {
     "name": "stdout",
     "output_type": "stream",
     "text": [
      "+-------+------------------+------------------+\n",
      "|summary|          distance|       travel_time|\n",
      "+-------+------------------+------------------+\n",
      "|  count|              1666|              1666|\n",
      "|   mean|2.7334933973589397| 34.81731692677075|\n",
      "| stddev|1.2954651948730809|14.475623110887007|\n",
      "|    min|               0.5|             10.01|\n",
      "|    max|               5.0|             59.97|\n",
      "+-------+------------------+------------------+\n",
      "\n"
     ]
    }
   ],
   "source": [
    "couriers_orders.select(F.col(\"distance\"), F.col(\"travel_time\")).describe().show()"
   ]
  },
  {
   "cell_type": "markdown",
   "id": "e93864b2",
   "metadata": {},
   "source": [
    "### Вопрос №1.1:\n",
    "\n",
    "В конце каждого месяца компания выдает премию для своих курьеров, средняя скорость доставки за прошедший месяц которых больше средней скорости среди всех курьеров. Сколько курьеров получили премию за июнь 2021 года.\n"
   ]
  },
  {
   "cell_type": "code",
   "execution_count": 76,
   "id": "d2270fb8",
   "metadata": {},
   "outputs": [
    {
     "name": "stdout",
     "output_type": "stream",
     "text": [
      "+-------------------+----------+--------+--------+-----------+------------------+\n",
      "|               date|courier_id|order_id|distance|travel_time|       order_speed|\n",
      "+-------------------+----------+--------+--------+-----------+------------------+\n",
      "|2021-06-11 00:00:00|        10|       5|    4.89|      32.09| 9.143035213462136|\n",
      "|2021-06-14 00:00:00|         4|       9|    4.13|      29.34| 8.445807770961146|\n",
      "|2021-06-27 00:00:00|         8|      10|    1.04|      12.56| 4.968152866242038|\n",
      "|2021-06-27 00:00:00|         1|      19|    1.85|      13.56| 8.185840707964601|\n",
      "|2021-06-28 00:00:00|         2|      25|    4.02|      12.43|19.404666130329844|\n",
      "+-------------------+----------+--------+--------+-----------+------------------+\n",
      "only showing top 5 rows\n",
      "\n"
     ]
    }
   ],
   "source": [
    "# travel time in min and distance in km, add speed column to couriers_orders km/h and filter only june orders\n",
    "couriers_orders_june = couriers_orders.withColumn(\"order_speed\", F.expr(\"distance / (travel_time / 60)\")) \\\n",
    "    .filter((F.col('date') >= F.lit('2021-06-01')) & (F.col('date') <= F.lit('2021-06-30')))\n",
    "\n",
    "couriers_orders_june.show(5)"
   ]
  },
  {
   "cell_type": "code",
   "execution_count": 77,
   "id": "a20d9ecd",
   "metadata": {},
   "outputs": [
    {
     "name": "stdout",
     "output_type": "stream",
     "text": [
      "+----------+---------------------+\n",
      "|courier_id|mean_speed_by_courier|\n",
      "+----------+---------------------+\n",
      "|         6|    6.791953132084712|\n",
      "|         1|   6.7493254093092405|\n",
      "|        10|     6.58047952209051|\n",
      "|         8|    6.826371958342846|\n",
      "|         2|    6.528423151187261|\n",
      "|         4|    7.692341132350769|\n",
      "+----------+---------------------+\n",
      "\n"
     ]
    },
    {
     "data": {
      "text/plain": [
       "(None, 6)"
      ]
     },
     "execution_count": 77,
     "metadata": {},
     "output_type": "execute_result"
    }
   ],
   "source": [
    "# add column with mean speed by courier_id\n",
    "\n",
    "# compute mean speed per courier\n",
    "mean_speed_courier = (\n",
    "    couriers_orders_june.groupBy(\"courier_id\")\n",
    "    .agg(F.mean(\"order_speed\").alias(\"mean_speed_by_courier\"))\n",
    ")\n",
    "\n",
    "# compute overall mean (as DataFrame, not collected scalar)\n",
    "overall_mean_df = mean_speed_courier.agg(\n",
    "    F.mean(\"mean_speed_by_courier\").alias(\"overall_mean_speed\")\n",
    ")\n",
    "\n",
    "# Filter couriers whose mean speed is greater than overall mean\n",
    "couriers_bonus = mean_speed_courier.filter(F.col(\"mean_speed_by_courier\") > overall_mean_df.collect()[0][\"overall_mean_speed\"])\n",
    "couriers_bonus.show(), couriers_bonus.count()"
   ]
  },
  {
   "cell_type": "markdown",
   "id": "5fe59468",
   "metadata": {},
   "source": [
    "### Вопрос №1.2:\n",
    "используйте данные из предыдущего вопроса №1.1\n",
    "\n",
    "Компания хочет понять, насколько равномерно курьеры работают в течение месяца. Для этого нужно найти ID курьера с наибольшей разницей между максимальной и минимальной средней дневной скоростью в июне 2021 года."
   ]
  },
  {
   "cell_type": "code",
   "execution_count": 92,
   "id": "54e82b35",
   "metadata": {},
   "outputs": [
    {
     "name": "stdout",
     "output_type": "stream",
     "text": [
      "+-------------------+----------+------------------+\n",
      "|               date|courier_id|  daily_mean_speed|\n",
      "+-------------------+----------+------------------+\n",
      "|2021-06-21 00:00:00|         6| 8.125091054426372|\n",
      "|2021-06-25 00:00:00|         9| 8.552623561272851|\n",
      "|2021-06-25 00:00:00|         8| 5.324176574701887|\n",
      "|2021-06-30 00:00:00|         8|1.7039153083515375|\n",
      "|2021-06-03 00:00:00|         6| 1.403067638923812|\n",
      "+-------------------+----------+------------------+\n",
      "only showing top 5 rows\n",
      "\n"
     ]
    }
   ],
   "source": [
    "daily_mean_speed_june = couriers_orders_june.groupBy(\"date\", \"courier_id\").agg(F.mean(\"order_speed\").alias(\"daily_mean_speed\"))\n",
    "daily_mean_speed_june.show(5)"
   ]
  },
  {
   "cell_type": "code",
   "execution_count": 99,
   "id": "cecf2149",
   "metadata": {},
   "outputs": [
    {
     "name": "stdout",
     "output_type": "stream",
     "text": [
      "+----------+--------------------------+--------------------------+------------------+\n",
      "|courier_id|max_daily_speed_by_courier|min_daily_speed_by_courier|        speed_diff|\n",
      "+----------+--------------------------+--------------------------+------------------+\n",
      "|         7|         11.33508936970837|        1.0535557506584723|10.281533619049899|\n",
      "|         6|         25.49718574108818|         1.403067638923812| 24.09411810216437|\n",
      "|         9|        13.315508021390373|        0.7547857793983591|12.560722241992014|\n",
      "|         5|        17.651376146788987|         1.104111823559212|16.547264323229776|\n",
      "|         1|        25.342333654773388|        1.6655313351498635|23.676802319623523|\n",
      "+----------+--------------------------+--------------------------+------------------+\n",
      "only showing top 5 rows\n",
      "\n",
      "+----------+------------------+\n",
      "|courier_id|        speed_diff|\n",
      "+----------+------------------+\n",
      "|         4|24.802606662802628|\n",
      "+----------+------------------+\n",
      "\n"
     ]
    }
   ],
   "source": [
    "courier_speed_stats = daily_mean_speed_june.groupBy(\"courier_id\")\\\n",
    "    .agg(F.max(\"daily_mean_speed\").alias(\"max_daily_speed_by_courier\"))\\\n",
    "    .join(\n",
    "        daily_mean_speed_june.groupBy(\"courier_id\")\\\n",
    "            .agg(F.min(\"daily_mean_speed\").alias(\"min_daily_speed_by_courier\")),\n",
    "        \"courier_id\"\n",
    "    )\\\n",
    "    .withColumn(\"speed_diff\", F.col(\"max_daily_speed_by_courier\") - F.col(\"min_daily_speed_by_courier\"))\n",
    "\n",
    "\n",
    "courier_speed_stats.show(5)\n",
    "\n",
    "courier_speed_stats\\\n",
    "    .filter(F.col(\"speed_diff\") == courier_speed_stats.select(F.max(\"speed_diff\")).first()[0])\\\n",
    "    .select(\"courier_id\", \"speed_diff\").show()\n"
   ]
  },
  {
   "cell_type": "markdown",
   "id": "311bfa53",
   "metadata": {},
   "source": [
    "## Покупки клиентов\n",
    "\n",
    "У нас есть данные о покупках клиентов [purchases.parquet](https://drive.google.com/file/d/1LWqMEDVX5M3iEGPv7zZh2NnlqSMvOcom/view?usp=sharing). Проанализируйте интервалы времени между последовательными покупками для каждого клиента в наборе данных о покупках - напишите код для вычисления разницы в днях между текущей покупкой и предыдущей покупкой каждого клиента. Отобразите результат в новом столбце days_between_purchases.\n",
    "\n",
    "### Вопрос №2.1:\n",
    "\n",
    "Какое количество NaN в столбце days_between_purchases?"
   ]
  },
  {
   "cell_type": "code",
   "execution_count": 100,
   "id": "5faabd18",
   "metadata": {},
   "outputs": [
    {
     "name": "stdout",
     "output_type": "stream",
     "text": [
      "+-----------+-------------------+\n",
      "|customer_id|      purchase_date|\n",
      "+-----------+-------------------+\n",
      "|          2|2021-01-01 00:00:00|\n",
      "|          7|2021-01-01 00:00:00|\n",
      "|          7|2021-01-01 00:00:00|\n",
      "|         11|2021-01-01 00:00:00|\n",
      "|         21|2021-01-01 00:00:00|\n",
      "+-----------+-------------------+\n",
      "only showing top 5 rows\n",
      "\n"
     ]
    }
   ],
   "source": [
    "purchases = spark.read.parquet(\"data/purchases.parquet\")\n",
    "purchases.show(5)"
   ]
  },
  {
   "cell_type": "code",
   "execution_count": 114,
   "id": "defe39cf",
   "metadata": {},
   "outputs": [
    {
     "name": "stdout",
     "output_type": "stream",
     "text": [
      "+-----------+-------------------+----------------------+\n",
      "|customer_id|      purchase_date|days_between_purchases|\n",
      "+-----------+-------------------+----------------------+\n",
      "|          1|2021-01-14 00:00:00|                  NULL|\n",
      "|          1|2021-01-18 00:00:00|                     4|\n",
      "|          1|2021-01-28 00:00:00|                    10|\n",
      "|          1|2021-02-05 00:00:00|                     8|\n",
      "|          1|2021-02-06 00:00:00|                     1|\n",
      "+-----------+-------------------+----------------------+\n",
      "only showing top 5 rows\n",
      "\n"
     ]
    }
   ],
   "source": [
    "purchases_days_bt = purchases.withColumn('days_between_purchases', F.datediff(\n",
    "    F.col('purchase_date'), F.lag('purchase_date')\\\n",
    "        .over(Window.partitionBy('customer_id').orderBy('purchase_date'))))\n",
    "\n",
    "purchases_days_bt.show(5)"
   ]
  },
  {
   "cell_type": "code",
   "execution_count": 126,
   "id": "e5a88cb7",
   "metadata": {},
   "outputs": [
    {
     "data": {
      "text/plain": [
       "50"
      ]
     },
     "execution_count": 126,
     "metadata": {},
     "output_type": "execute_result"
    }
   ],
   "source": [
    "# find count of rows where days_between_purchases is null\n",
    "purchases_days_bt.filter(F.col('days_between_purchases').isNull()).count()"
   ]
  },
  {
   "cell_type": "markdown",
   "id": "13fbd045",
   "metadata": {},
   "source": [
    "### Вопрос №2.2 :\n",
    "(используйте данные из предыдущего вопроса №2.1)\n",
    "\n",
    "У какого количества уникальных клиентов разница между текущей покупкой и предыдущей покупкой равна 20-ти дням?"
   ]
  },
  {
   "cell_type": "code",
   "execution_count": 131,
   "id": "5c28d198",
   "metadata": {},
   "outputs": [
    {
     "data": {
      "text/plain": [
       "10"
      ]
     },
     "execution_count": 131,
     "metadata": {},
     "output_type": "execute_result"
    }
   ],
   "source": [
    "purchases_days_bt.filter(F.col('days_between_purchases') == 20).groupBy('customer_id').count().count()"
   ]
  }
 ],
 "metadata": {
  "kernelspec": {
   "display_name": "self-drive",
   "language": "python",
   "name": "python3"
  },
  "language_info": {
   "codemirror_mode": {
    "name": "ipython",
    "version": 3
   },
   "file_extension": ".py",
   "mimetype": "text/x-python",
   "name": "python",
   "nbconvert_exporter": "python",
   "pygments_lexer": "ipython3",
   "version": "3.12.0"
  }
 },
 "nbformat": 4,
 "nbformat_minor": 5
}
