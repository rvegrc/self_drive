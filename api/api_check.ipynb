{
 "cells": [
  {
   "cell_type": "markdown",
   "metadata": {},
   "source": [
    "## Server-Side: FastAPI Application"
   ]
  },
  {
   "cell_type": "code",
   "execution_count": null,
   "metadata": {
    "vscode": {
     "languageId": "plaintext"
    }
   },
   "outputs": [],
   "source": [
    "from fastapi import FastAPI, Request\n",
    "from pydantic import BaseModel\n",
    "import pandas as pd\n",
    "from typing import List, Dict\n",
    "\n",
    "app = FastAPI()\n",
    "\n",
    "class DataFrameInput(BaseModel):\n",
    "    data: List[Dict]  # Expecting a list of dictionaries as input\n",
    "\n",
    "@app.post(\"/process-dataframe\")\n",
    "async def process_dataframe(input_data: DataFrameInput):\n",
    "    # Convert the JSON data into a Pandas DataFrame\n",
    "    df = pd.DataFrame(input_data.data)\n",
    "    \n",
    "    # Modify the DataFrame (example: add a new column)\n",
    "    df[\"new_column\"] = df[\"column1\"] * 2  # Assuming 'column1' exists in the input\n",
    "    \n",
    "    # Convert the modified DataFrame back to JSON\n",
    "    response_data = df.to_dict(orient=\"records\")\n",
    "    return {\"data\": response_data}\n"
   ]
  },
  {
   "cell_type": "markdown",
   "metadata": {},
   "source": [
    "## Client-Side: Sending and Receiving Data"
   ]
  },
  {
   "cell_type": "code",
   "execution_count": null,
   "metadata": {
    "vscode": {
     "languageId": "plaintext"
    }
   },
   "outputs": [],
   "source": [
    "import requests\n",
    "import pandas as pd\n",
    "\n",
    "# Example DataFrame to send\n",
    "df = pd.DataFrame({\n",
    "    \"column1\": [1, 2, 3],\n",
    "    \"column2\": [\"A\", \"B\", \"C\"]\n",
    "})\n",
    "\n",
    "# Convert DataFrame to JSON format\n",
    "data_to_send = {\"data\": df.to_dict(orient=\"records\")}\n",
    "\n",
    "# Send the POST request\n",
    "response = requests.post(\"http://127.0.0.1:8000/process-dataframe\", json=data_to_send)\n",
    "\n",
    "# Convert the response JSON back into a DataFrame\n",
    "if response.status_code == 200:\n",
    "    returned_data = response.json()[\"data\"]\n",
    "    result_df = pd.DataFrame(returned_data)\n",
    "    print(result_df)\n",
    "else:\n",
    "    print(\"Error:\", response.status_code, response.text)\n"
   ]
  },
  {
   "cell_type": "markdown",
   "metadata": {
    "vscode": {
     "languageId": "plaintext"
    }
   },
   "source": [
    "## Running the Server\n",
    "\n",
    "\n",
    "```\n",
    "uvicorn your_script_name:app --reload\n",
    "'''\n"
   ]
  }
 ],
 "metadata": {
  "language_info": {
   "name": "python"
  }
 },
 "nbformat": 4,
 "nbformat_minor": 2
}
